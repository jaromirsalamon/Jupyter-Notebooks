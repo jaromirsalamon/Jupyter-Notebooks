{
 "cells": [
  {
   "cell_type": "markdown",
   "metadata": {},
   "source": [
    "The simplest question identification by checking question mark character in the tokenized text."
   ]
  },
  {
   "cell_type": "code",
   "execution_count": 3,
   "metadata": {},
   "outputs": [],
   "source": [
    "import pandas as pd\n",
    "pd.set_option('display.max_colwidth', -1)\n",
    "import numpy as np\n",
    "from IPython.display import display, HTML\n",
    "from nltk.tokenize import wordpunct_tokenize, TreebankWordTokenizer"
   ]
  },
  {
   "cell_type": "code",
   "execution_count": 4,
   "metadata": {},
   "outputs": [],
   "source": [
    "df = pd.read_csv('questions_or_not.txt', sep = '\\t', names = ['question_expected','text'])"
   ]
  },
  {
   "cell_type": "code",
   "execution_count": 5,
   "metadata": {},
   "outputs": [
    {
     "data": {
      "text/plain": [
       "'Does someone have more information, decks of the new TD which was presented in partners?'"
      ]
     },
     "execution_count": 5,
     "metadata": {},
     "output_type": "execute_result"
    }
   ],
   "source": [
    "df.loc[3,\"text\"]"
   ]
  },
  {
   "cell_type": "code",
   "execution_count": 6,
   "metadata": {},
   "outputs": [],
   "source": [
    "def is_questionmark(tokens):\n",
    "    if '?' in tokens:\n",
    "        return 1\n",
    "    else:\n",
    "        return 0"
   ]
  },
  {
   "cell_type": "code",
   "execution_count": 7,
   "metadata": {},
   "outputs": [
    {
     "name": "stdout",
     "output_type": "stream",
     "text": [
      "['Does', 'someone', 'have', 'more', 'information', ',', 'decks', 'of', 'the', 'new', 'TD', 'which', 'was', 'presented', 'in', 'partners', '?']\n",
      "[1, 0, 1, 1, 1, 1, 0, 1, 0, 0, 1, 1, 0, 1, 0, 1, 0, 1, 0, 1, 0, 1, 0, 0, 0]\n"
     ]
    }
   ],
   "source": [
    "question = []\n",
    "for index, row in df.iterrows():\n",
    "    tokenizer = TreebankWordTokenizer()\n",
    "    tokens = tokenizer.tokenize(row['text'])\n",
    "    if(index == 3): print(tokens)\n",
    "    question.append(is_questionmark(tokens))\n",
    "print(question)\n",
    "df = df.assign(question_identified=question)"
   ]
  },
  {
   "cell_type": "code",
   "execution_count": 8,
   "metadata": {},
   "outputs": [
    {
     "data": {
      "text/html": [
       "<div>\n",
       "<style scoped>\n",
       "    .dataframe tbody tr th:only-of-type {\n",
       "        vertical-align: middle;\n",
       "    }\n",
       "\n",
       "    .dataframe tbody tr th {\n",
       "        vertical-align: top;\n",
       "    }\n",
       "\n",
       "    .dataframe thead th {\n",
       "        text-align: right;\n",
       "    }\n",
       "</style>\n",
       "<table border=\"1\" class=\"dataframe\">\n",
       "  <thead>\n",
       "    <tr style=\"text-align: right;\">\n",
       "      <th></th>\n",
       "      <th>text</th>\n",
       "      <th>question_expected</th>\n",
       "      <th>question_identified</th>\n",
       "    </tr>\n",
       "  </thead>\n",
       "  <tbody>\n",
       "    <tr>\n",
       "      <th>0</th>\n",
       "      <td>Anyone knows of a list of Kylo users that we can show as references?</td>\n",
       "      <td>1</td>\n",
       "      <td>1</td>\n",
       "    </tr>\n",
       "    <tr>\n",
       "      <th>1</th>\n",
       "      <td>I know of Coke and Lego, but a largest list will help. Thanks!</td>\n",
       "      <td>0</td>\n",
       "      <td>0</td>\n",
       "    </tr>\n",
       "    <tr>\n",
       "      <th>2</th>\n",
       "      <td>Do we have any use cases where we have utilised 3D visualisation technology?</td>\n",
       "      <td>1</td>\n",
       "      <td>1</td>\n",
       "    </tr>\n",
       "    <tr>\n",
       "      <th>3</th>\n",
       "      <td>Does someone have more information, decks of the new TD which was presented in partners?</td>\n",
       "      <td>1</td>\n",
       "      <td>1</td>\n",
       "    </tr>\n",
       "    <tr>\n",
       "      <th>4</th>\n",
       "      <td>Do we have any material on internal fraud on banking?</td>\n",
       "      <td>1</td>\n",
       "      <td>1</td>\n",
       "    </tr>\n",
       "    <tr>\n",
       "      <th>5</th>\n",
       "      <td>Any assessment or implementation on this front?</td>\n",
       "      <td>1</td>\n",
       "      <td>1</td>\n",
       "    </tr>\n",
       "    <tr>\n",
       "      <th>6</th>\n",
       "      <td>I am looking for pre-sale information for Data Science Lab.</td>\n",
       "      <td>0</td>\n",
       "      <td>0</td>\n",
       "    </tr>\n",
       "    <tr>\n",
       "      <th>7</th>\n",
       "      <td>Is there someone who has experience within Projects with the Next-Gen Data Platform or Converged Data Platform from MapR?</td>\n",
       "      <td>1</td>\n",
       "      <td>1</td>\n",
       "    </tr>\n",
       "    <tr>\n",
       "      <th>8</th>\n",
       "      <td>I've been preparing for a TD AppCenter demo for a customer and created a set of demo videos for backup.</td>\n",
       "      <td>0</td>\n",
       "      <td>0</td>\n",
       "    </tr>\n",
       "    <tr>\n",
       "      <th>9</th>\n",
       "      <td>These may be useful for ones who want to learn about it.</td>\n",
       "      <td>0</td>\n",
       "      <td>0</td>\n",
       "    </tr>\n",
       "    <tr>\n",
       "      <th>10</th>\n",
       "      <td>Can someone point me to the mobile phone setup instructions?</td>\n",
       "      <td>1</td>\n",
       "      <td>1</td>\n",
       "    </tr>\n",
       "    <tr>\n",
       "      <th>11</th>\n",
       "      <td>Could you please share real deployed cases about Kylo which i can show to my customer?</td>\n",
       "      <td>1</td>\n",
       "      <td>1</td>\n",
       "    </tr>\n",
       "    <tr>\n",
       "      <th>12</th>\n",
       "      <td>Or give me please contacts who can help me.</td>\n",
       "      <td>0</td>\n",
       "      <td>0</td>\n",
       "    </tr>\n",
       "    <tr>\n",
       "      <th>13</th>\n",
       "      <td>So if I were to sell the Analytic Ops accelerator we announced at partners, where would the assets be found, and who is the owner of these?</td>\n",
       "      <td>1</td>\n",
       "      <td>1</td>\n",
       "    </tr>\n",
       "    <tr>\n",
       "      <th>14</th>\n",
       "      <td>I am trying to collate different Image Processing use cases for a government customer.</td>\n",
       "      <td>0</td>\n",
       "      <td>0</td>\n",
       "    </tr>\n",
       "    <tr>\n",
       "      <th>15</th>\n",
       "      <td>Is there a place where I can find different use cases such as OCR, face detection/recognition, unattended baggage detection etc.?</td>\n",
       "      <td>1</td>\n",
       "      <td>1</td>\n",
       "    </tr>\n",
       "    <tr>\n",
       "      <th>16</th>\n",
       "      <td>Paul Huibers did a great job at Cleveland Clinic this week demonstrating the power of AI in healthcare!</td>\n",
       "      <td>0</td>\n",
       "      <td>0</td>\n",
       "    </tr>\n",
       "    <tr>\n",
       "      <th>17</th>\n",
       "      <td>Does anyone know if we have some discounts on Cloudera certifications negotiated at the moment?</td>\n",
       "      <td>1</td>\n",
       "      <td>1</td>\n",
       "    </tr>\n",
       "    <tr>\n",
       "      <th>18</th>\n",
       "      <td>Not sure if you guys in London are aware about this interesting conference next week.</td>\n",
       "      <td>0</td>\n",
       "      <td>0</td>\n",
       "    </tr>\n",
       "    <tr>\n",
       "      <th>19</th>\n",
       "      <td>Do we have any references on using Kudu?</td>\n",
       "      <td>1</td>\n",
       "      <td>1</td>\n",
       "    </tr>\n",
       "    <tr>\n",
       "      <th>20</th>\n",
       "      <td>We had an opportunity and could use some advice.</td>\n",
       "      <td>0</td>\n",
       "      <td>0</td>\n",
       "    </tr>\n",
       "    <tr>\n",
       "      <th>21</th>\n",
       "      <td>Does anyone have a copy of the excellent HBase presentation that Bryce Cottam did a few years ago for a Think Big bootcamp?</td>\n",
       "      <td>1</td>\n",
       "      <td>1</td>\n",
       "    </tr>\n",
       "    <tr>\n",
       "      <th>22</th>\n",
       "      <td>Posting some pictures from the Diwali Celebrations at one of our Client Williams Sonoma in San Francisco....Enjoy!!!!</td>\n",
       "      <td>0</td>\n",
       "      <td>0</td>\n",
       "    </tr>\n",
       "    <tr>\n",
       "      <th>23</th>\n",
       "      <td>Using data from Kaggle ML and Data Science Survey, 2017</td>\n",
       "      <td>0</td>\n",
       "      <td>0</td>\n",
       "    </tr>\n",
       "    <tr>\n",
       "      <th>24</th>\n",
       "      <td>The lesson of the day, order less Mexican food than you think you will need.</td>\n",
       "      <td>0</td>\n",
       "      <td>0</td>\n",
       "    </tr>\n",
       "  </tbody>\n",
       "</table>\n",
       "</div>"
      ],
      "text/plain": [
       "                                                                                                                                           text  \\\n",
       "0   Anyone knows of a list of Kylo users that we can show as references?                                                                          \n",
       "1   I know of Coke and Lego, but a largest list will help. Thanks!                                                                                \n",
       "2   Do we have any use cases where we have utilised 3D visualisation technology?                                                                  \n",
       "3   Does someone have more information, decks of the new TD which was presented in partners?                                                      \n",
       "4   Do we have any material on internal fraud on banking?                                                                                         \n",
       "5   Any assessment or implementation on this front?                                                                                               \n",
       "6   I am looking for pre-sale information for Data Science Lab.                                                                                   \n",
       "7   Is there someone who has experience within Projects with the Next-Gen Data Platform or Converged Data Platform from MapR?                     \n",
       "8   I've been preparing for a TD AppCenter demo for a customer and created a set of demo videos for backup.                                       \n",
       "9   These may be useful for ones who want to learn about it.                                                                                      \n",
       "10  Can someone point me to the mobile phone setup instructions?                                                                                  \n",
       "11  Could you please share real deployed cases about Kylo which i can show to my customer?                                                        \n",
       "12  Or give me please contacts who can help me.                                                                                                   \n",
       "13  So if I were to sell the Analytic Ops accelerator we announced at partners, where would the assets be found, and who is the owner of these?   \n",
       "14  I am trying to collate different Image Processing use cases for a government customer.                                                        \n",
       "15  Is there a place where I can find different use cases such as OCR, face detection/recognition, unattended baggage detection etc.?             \n",
       "16  Paul Huibers did a great job at Cleveland Clinic this week demonstrating the power of AI in healthcare!                                       \n",
       "17  Does anyone know if we have some discounts on Cloudera certifications negotiated at the moment?                                               \n",
       "18  Not sure if you guys in London are aware about this interesting conference next week.                                                         \n",
       "19  Do we have any references on using Kudu?                                                                                                      \n",
       "20  We had an opportunity and could use some advice.                                                                                              \n",
       "21  Does anyone have a copy of the excellent HBase presentation that Bryce Cottam did a few years ago for a Think Big bootcamp?                   \n",
       "22  Posting some pictures from the Diwali Celebrations at one of our Client Williams Sonoma in San Francisco....Enjoy!!!!                         \n",
       "23  Using data from Kaggle ML and Data Science Survey, 2017                                                                                       \n",
       "24  The lesson of the day, order less Mexican food than you think you will need.                                                                  \n",
       "\n",
       "    question_expected  question_identified  \n",
       "0   1                  1                    \n",
       "1   0                  0                    \n",
       "2   1                  1                    \n",
       "3   1                  1                    \n",
       "4   1                  1                    \n",
       "5   1                  1                    \n",
       "6   0                  0                    \n",
       "7   1                  1                    \n",
       "8   0                  0                    \n",
       "9   0                  0                    \n",
       "10  1                  1                    \n",
       "11  1                  1                    \n",
       "12  0                  0                    \n",
       "13  1                  1                    \n",
       "14  0                  0                    \n",
       "15  1                  1                    \n",
       "16  0                  0                    \n",
       "17  1                  1                    \n",
       "18  0                  0                    \n",
       "19  1                  1                    \n",
       "20  0                  0                    \n",
       "21  1                  1                    \n",
       "22  0                  0                    \n",
       "23  0                  0                    \n",
       "24  0                  0                    "
      ]
     },
     "execution_count": 8,
     "metadata": {},
     "output_type": "execute_result"
    }
   ],
   "source": [
    "df[[\"text\",\"question_expected\",\"question_identified\"]]"
   ]
  },
  {
   "cell_type": "markdown",
   "metadata": {},
   "source": [
    "Accuracy is for this testing data 100%, but whenever it's a question, but question mark is missing, then is accuracy 0%"
   ]
  },
  {
   "cell_type": "code",
   "execution_count": 9,
   "metadata": {},
   "outputs": [
    {
     "name": "stdout",
     "output_type": "stream",
     "text": [
      "1.0\n"
     ]
    }
   ],
   "source": [
    "print(df['question_identified'].sum()/df['question_expected'].sum())"
   ]
  }
 ],
 "metadata": {
  "kernelspec": {
   "display_name": "Python 3",
   "language": "python",
   "name": "python3"
  },
  "language_info": {
   "codemirror_mode": {
    "name": "ipython",
    "version": 3
   },
   "file_extension": ".py",
   "mimetype": "text/x-python",
   "name": "python",
   "nbconvert_exporter": "python",
   "pygments_lexer": "ipython3",
   "version": "3.6.3"
  }
 },
 "nbformat": 4,
 "nbformat_minor": 2
}
